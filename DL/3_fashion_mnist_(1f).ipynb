{
  "nbformat": 4,
  "nbformat_minor": 0,
  "metadata": {
    "colab": {
      "provenance": []
    },
    "kernelspec": {
      "name": "python3",
      "display_name": "Python 3"
    },
    "language_info": {
      "name": "python"
    }
  },
  "cells": [
    {
      "cell_type": "code",
      "source": [
        "import numpy as np\n",
        "import pandas as pd\n",
        "import tensorflow as tf\n",
        "import matplotlib.pyplot as plt\n",
        "from tensorflow.keras.datasets import fashion_mnist\n",
        "from sklearn.metrics import confusion_matrix\n",
        "import seaborn as sns\n"
      ],
      "metadata": {
        "id": "9C_Pc3ot7DBu"
      },
      "execution_count": 2,
      "outputs": []
    },
    {
      "cell_type": "code",
      "execution_count": 25,
      "metadata": {
        "id": "BbklPfdi6TVZ",
        "colab": {
          "base_uri": "https://localhost:8080/"
        },
        "outputId": "da13b0e4-9286-4249-bcd7-a5f80a9b8005"
      },
      "outputs": [
        {
          "output_type": "stream",
          "name": "stdout",
          "text": [
            "(60000, 785) (60000,) (10000, 785) (10000,)\n"
          ]
        },
        {
          "output_type": "execute_result",
          "data": {
            "text/plain": [
              "((60000, 28, 28), (60000,), (10000, 28, 28), (10000,))"
            ]
          },
          "metadata": {},
          "execution_count": 25
        }
      ],
      "source": [
        "# import tensorflow as tf\n",
        "# from tensorflow.keras.datasets import fashion_mnist\n",
        "train_data=pd.read_csv('/content/fashion-mnist_train.csv')\n",
        "test_data=pd.read_csv('/content/fashion-mnist_test.csv')\n",
        "train_labels = train_data['label']\n",
        "test_labels = test_data['label']\n",
        "print(train_data.shape,train_labels.shape,test_data.shape,test_labels.shape)\n",
        "\n",
        "train_data.drop(columns=['label'],inplace=True)\n",
        "test_data.drop(columns=['label'],inplace=True)\n",
        "\n",
        "train_data = train_data.to_numpy().reshape(60000, 28, 28)\n",
        "test_data = test_data.to_numpy().reshape(10000, 28, 28)\n",
        "\n",
        "# The data has already been sorted into training and test sets for us\n",
        "# train_data.shape,train_labels.shape,test_data.shape,test_labels.shape\n",
        "train_data.shape,train_labels.shape,test_data.shape,test_labels.shape\n"
      ]
    },
    {
      "cell_type": "code",
      "source": [
        "train_data"
      ],
      "metadata": {
        "colab": {
          "base_uri": "https://localhost:8080/"
        },
        "id": "IQMkJb9tB8Nw",
        "outputId": "37697218-ef7c-4638-82fa-934b307b50b3"
      },
      "execution_count": 5,
      "outputs": [
        {
          "output_type": "execute_result",
          "data": {
            "text/plain": [
              "array([[[  0,   0,   0, ...,   0,   0,   0],\n",
              "        [  0,   0,   0, ...,   0,   0,   0],\n",
              "        [  0,   0,   0, ...,   0,   0,   0],\n",
              "        ...,\n",
              "        [  0,   0,   0, ...,   0,   0,   0],\n",
              "        [  0,   0,   0, ...,   0,   0,   0],\n",
              "        [  0,   0,   0, ...,   0,   0,   0]],\n",
              "\n",
              "       [[  0,   0,   0, ...,   0,   0,   0],\n",
              "        [  0,   0,   0, ...,   0,   0,   0],\n",
              "        [  0,   0,   0, ...,   0,   0,   0],\n",
              "        ...,\n",
              "        [  0,   0,   0, ...,   0,   0,   0],\n",
              "        [  0,   0,   0, ...,   0,   0,   0],\n",
              "        [  0,   0,   0, ...,   0,   0,   0]],\n",
              "\n",
              "       [[  0,   0,   0, ...,   0,   0,   0],\n",
              "        [  0,   0,   0, ...,   0,   0,   0],\n",
              "        [  0,   0,   0, ...,   0,   0,   0],\n",
              "        ...,\n",
              "        [  0,   0,   0, ...,   0,   0,   0],\n",
              "        [  0,   0,   0, ...,   0,   0,   0],\n",
              "        [  0,   0,   0, ...,   0,   0,   0]],\n",
              "\n",
              "       ...,\n",
              "\n",
              "       [[  0,   0,   0, ...,   0,   0,   0],\n",
              "        [  0,   0,   0, ...,   0,   0,   0],\n",
              "        [  0,   0,   0, ...,   0,   0,   0],\n",
              "        ...,\n",
              "        [  0,   0,   0, ...,   0,   0,   0],\n",
              "        [  0,   0,   0, ...,   0,   0,   0],\n",
              "        [  0,   0,   0, ...,   0,   0,   0]],\n",
              "\n",
              "       [[  0,   0,   0, ...,   0,   0,   0],\n",
              "        [  0,   0,   0, ...,   0,   0,   0],\n",
              "        [  0,   0,   0, ...,   0,   0,   0],\n",
              "        ...,\n",
              "        [  0,   0, 159, ...,   5,   0,   0],\n",
              "        [  0,   0,   0, ...,   0,   0,   1],\n",
              "        [  0,   0,   0, ...,   0,   0,   0]],\n",
              "\n",
              "       [[  0,   0,   0, ...,   0,   0,   0],\n",
              "        [  0,   0,   0, ...,   0,   0,   0],\n",
              "        [  0,   0,   0, ...,   0,   0,   0],\n",
              "        ...,\n",
              "        [  0,   0,   0, ...,   0,   0,   0],\n",
              "        [  0,   0,   0, ...,   0,   0,   0],\n",
              "        [  0,   0,   0, ...,   0,   0,   0]]])"
            ]
          },
          "metadata": {},
          "execution_count": 5
        }
      ]
    },
    {
      "cell_type": "code",
      "source": [
        "train_data[0].shape, train_labels[0].shape\n"
      ],
      "metadata": {
        "colab": {
          "base_uri": "https://localhost:8080/"
        },
        "id": "qKj7fRGl6rIl",
        "outputId": "13f92702-5fc2-4218-9e01-c9cdd21746a5"
      },
      "execution_count": 6,
      "outputs": [
        {
          "output_type": "execute_result",
          "data": {
            "text/plain": [
              "((28, 28), ())"
            ]
          },
          "metadata": {},
          "execution_count": 6
        }
      ]
    },
    {
      "cell_type": "code",
      "source": [
        "\n",
        "# Create a small list so we can index onto our training labels so they're human-readable\n",
        "class_names = [\"T-shirt/top\", \"Trouser\", \"Pullover\", \"Dress\", \"Coat\", \"Sandal\", \"Shirt\", \"Sneaker\", \"Bag\", \"Ankle boot\"]\n",
        "\n",
        "len(class_names)"
      ],
      "metadata": {
        "colab": {
          "base_uri": "https://localhost:8080/"
        },
        "id": "TW_ABP-e6rDV",
        "outputId": "203d05d4-fb8e-4281-b191-45b7c2bdd333"
      },
      "execution_count": 7,
      "outputs": [
        {
          "output_type": "execute_result",
          "data": {
            "text/plain": [
              "10"
            ]
          },
          "metadata": {},
          "execution_count": 7
        }
      ]
    },
    {
      "cell_type": "code",
      "source": [
        "\n",
        "# Plot an example image and its label\n",
        "index_of_choice = 2000\n",
        "plt.imshow(train_data[index_of_choice], cmap=plt.cm.binary)\n",
        "plt.title(class_names[train_labels[index_of_choice]])\n",
        "\n",
        "train_data[index_of_choice]"
      ],
      "metadata": {
        "colab": {
          "base_uri": "https://localhost:8080/",
          "height": 1000
        },
        "id": "GxQX1iWw6rA1",
        "outputId": "58bf53c8-c3fe-44ff-d02e-5888adef1708"
      },
      "execution_count": 8,
      "outputs": [
        {
          "output_type": "execute_result",
          "data": {
            "text/plain": [
              "array([[  0,   0,   0,   0,   0,   0,   0,   0,   0,   0,   4,   0,   0,\n",
              "         83,  77,  78,   0,   0,   1,   0,   0,   0,   0,   0,   0,   0,\n",
              "          0,   0],\n",
              "       [  0,   0,   0,   0,   0,   0,   0,   0,   0,   0,   7,   0, 122,\n",
              "        123,   0,  65, 130,   0,   0,   0,   0,   0,   0,   0,   0,   0,\n",
              "          0,   0],\n",
              "       [  0,   0,   0,   0,   0,   0,   0,   0,   0,   2,   0,   7, 162,\n",
              "          0,   0,   0, 116,  55,   0,   5,   0,   0,   0,   0,   0,   0,\n",
              "          0,   0],\n",
              "       [  0,   0,   0,   0,   0,   0,   0,   0,   0,   6,   0, 105, 116,\n",
              "          0,   6,   0,  62, 121,   0,   5,   0,   1,   0,   0,   0,   0,\n",
              "          0,   0],\n",
              "       [  0,   0,   0,   0,   0,   0,   0,   0,   0,   2,   0, 160,  53,\n",
              "          0,   3,   0,  10, 148,   0,   0,   0,   0,   0,   0,   0,   0,\n",
              "          0,   0],\n",
              "       [  0,   0,   0,   0,   0,   0,   0,   0,   2,   0,  22, 171,   0,\n",
              "          0,   0,   2,   0, 122,  14,   0,   2,   0,   0,   0,   0,   0,\n",
              "          0,   0],\n",
              "       [  0,   0,   0,   0,   0,   0,   0,   0,   6,   0,  86, 136,   0,\n",
              "          8,   0,   5,   0,  91,  73,   0,   5,   0,   0,   0,   0,   0,\n",
              "          0,   0],\n",
              "       [  0,   0,   0,   0,   0,   0,   0,   0,   5,   0, 132,  92,   0,\n",
              "          7,   0,   6,   0,  81, 140,   0,   5,   0,   0,   0,   0,   0,\n",
              "          0,   0],\n",
              "       [  0,   0,   0,   0,   0,   0,   0,   0,   0,   0, 168,  65,   0,\n",
              "          5,   0,   4,   0,  54, 170,   0,   3,   0,   1,   1,   0,   0,\n",
              "          0,   0],\n",
              "       [  0,   0,   4,   6,   6,   6,   4,   4,   0,   0, 195,  25,   0,\n",
              "          2,   1,   3,   0,  11, 184,   0,   0,   2,   3,   4,   5,   5,\n",
              "          2,   0],\n",
              "       [  0,   0,   0,   0,   0,   0,   0,   0,   0,   7, 196,   0,   0,\n",
              "          0,   0,   1,   0,   0, 228,  20,   0,   0,   0,   0,   0,   0,\n",
              "          0,   0],\n",
              "       [  0,   0,  13,  43,  30,  26,  16,   4,   0,  52, 196,   0,   0,\n",
              "          0,   0,   0,   0,   0, 213,  43,   0,   0,   3,   8,  11,  24,\n",
              "          0,   0],\n",
              "       [  0,   0, 137, 217, 199, 197, 195, 228, 217, 183, 189, 198, 190,\n",
              "        164, 125, 156, 164, 167, 163, 170, 204, 215, 222, 194, 200, 222,\n",
              "        114,   0],\n",
              "       [  0,   0,  69, 200, 180, 188, 188, 189, 194, 216, 215, 194, 187,\n",
              "        179, 173, 183, 182, 185, 209, 214, 189, 188, 189, 190, 195, 216,\n",
              "         59,   0],\n",
              "       [  0,   0,  55, 204, 185, 187, 189, 188, 192, 225, 216, 152, 157,\n",
              "        164, 168, 160, 161, 162, 171, 177, 176, 188, 192, 198, 203, 211,\n",
              "         38,   0],\n",
              "       [  0,   0,  30, 233, 188, 187, 194, 195, 196, 176, 172, 169, 180,\n",
              "        168, 167, 171, 183, 182, 178, 180, 185, 195, 197, 198, 208, 243,\n",
              "          5,   0],\n",
              "       [  0,   0,   0, 236, 190, 188, 197, 187, 180, 140, 182, 178, 177,\n",
              "        179, 183, 185, 187, 189, 192, 189, 189, 189, 193, 200, 213, 233,\n",
              "          0,   0],\n",
              "       [  0,   0,   0, 225, 192, 185, 194, 183, 192, 174, 187, 184, 190,\n",
              "        195, 194, 193, 192, 190, 195, 195, 197, 199, 201, 209, 215, 219,\n",
              "          0,   0],\n",
              "       [  0,   0,   0, 204, 193, 189, 192, 193, 190, 180, 189, 195, 194,\n",
              "        190, 193, 195, 197, 199, 199, 198, 200, 202, 203, 201, 214, 199,\n",
              "          0,   0],\n",
              "       [  0,   0,   0, 184, 198, 179, 196, 197, 195, 202, 195, 194, 195,\n",
              "        197, 197, 197, 197, 199, 203, 202, 204, 205, 208, 202, 217, 168,\n",
              "          0,   0],\n",
              "       [  0,   0,   0, 158, 201, 178, 197, 196, 195, 195, 196, 197, 198,\n",
              "        198, 197, 198, 198, 199, 201, 201, 202, 203, 203, 203, 221, 132,\n",
              "          0,   0],\n",
              "       [  0,   0,   0, 132, 206, 186, 199, 198, 198, 199, 197, 198, 199,\n",
              "        199, 199, 200, 201, 201, 201, 202, 203, 202, 201, 208, 224,  88,\n",
              "          0,   0],\n",
              "       [  0,   0,   0,  88, 209, 187, 201, 201, 201, 201, 198, 199, 200,\n",
              "        200, 201, 201, 202, 202, 201, 202, 203, 203, 205, 208, 225,  61,\n",
              "          0,   0],\n",
              "       [  0,   0,   0,  70, 208, 187, 198, 199, 199, 199, 196, 197, 198,\n",
              "        199, 200, 201, 201, 202, 204, 204, 205, 205, 203, 205, 218,  32,\n",
              "          0,   0],\n",
              "       [  0,   0,   0,  39, 200, 188, 200, 201, 203, 202, 202, 202, 203,\n",
              "        203, 203, 203, 204, 203, 204, 208, 206, 201, 204, 213, 210,   0,\n",
              "          0,   0],\n",
              "       [  0,   0,   0,   0, 188, 190, 195, 198, 194, 195, 195, 195, 196,\n",
              "        196, 194, 195, 196, 195, 193, 197, 197, 198, 205, 212, 186,   0,\n",
              "          0,   0],\n",
              "       [  0,   0,   0,   0, 190, 222, 214, 250, 250, 249, 249, 250, 251,\n",
              "        250, 249, 250, 251, 251, 250, 250, 251, 255, 221, 241, 187,   0,\n",
              "          0,   0],\n",
              "       [  0,   0,   0,   0,  50,  94,  71,  76,  75,  74,  73,  73,  73,\n",
              "         74,  75,  75,  75,  76,  78,  78,  84,  89,  93, 108,  46,   0,\n",
              "          0,   0]])"
            ]
          },
          "metadata": {},
          "execution_count": 8
        },
        {
          "output_type": "display_data",
          "data": {
            "text/plain": [
              "<Figure size 640x480 with 1 Axes>"
            ],
            "image/png": "[encoded data removed]"
          },
          "metadata": {}
        }
      ]
    },
    {
      "cell_type": "code",
      "source": [
        "\n",
        "# We can get our training and testing data between 0 & 1 by dividing by the maximum\n",
        "train_data_norm = train_data / 255.0\n",
        "test_data_norm = test_data / 255.0\n"
      ],
      "metadata": {
        "id": "oIDlWnxr6q99"
      },
      "execution_count": 9,
      "outputs": []
    },
    {
      "cell_type": "code",
      "source": [
        "# Set random seed\n",
        "tf.random.set_seed(42)\n",
        "\n",
        "# Create a model (same as model_11)\n",
        "\n",
        "\n",
        "model=tf.keras.Sequential([\n",
        "    tf.keras.layers.Conv2D(filters=64,kernel_size=(3,3),activation='relu',input_shape=(28, 28, 1)),\n",
        "    tf.keras.layers.MaxPooling2D(pool_size=(2,2)),\n",
        "    tf.keras.layers.Flatten(),\n",
        "    tf.keras.layers.Dense(10, activation = \"softmax\")\n",
        "])\n",
        "\n",
        "# Compile the model\n",
        "model.compile(loss=tf.keras.losses.SparseCategoricalCrossentropy(),\n",
        "                 optimizer=tf.keras.optimizers.Adam(),\n",
        "                 metrics=[\"accuracy\"])\n",
        "\n",
        "# Fit the model\n",
        "HISTORY = model.fit(tf.expand_dims(train_data_norm,axis=-1),\n",
        "                            train_labels,\n",
        "                            epochs=10,\n",
        "                            batch_size=64,\n",
        "                            validation_data=(test_data_norm, test_labels))"
      ],
      "metadata": {
        "colab": {
          "base_uri": "https://localhost:8080/"
        },
        "id": "Qt9jEIcj69SN",
        "outputId": "337c4081-65c0-454f-8eea-d0c4e0b98790"
      },
      "execution_count": 10,
      "outputs": [
        {
          "output_type": "stream",
          "name": "stderr",
          "text": [
            "/usr/local/lib/python3.11/dist-packages/keras/src/layers/convolutional/base_conv.py:107: UserWarning: Do not pass an `input_shape`/`input_dim` argument to a layer. When using Sequential models, prefer using an `Input(shape)` object as the first layer in the model instead.\n",
            "  super().__init__(activity_regularizer=activity_regularizer, **kwargs)\n"
          ]
        },
        {
          "output_type": "stream",
          "name": "stdout",
          "text": [
            "Epoch 1/10\n",
            "\u001b[1m938/938\u001b[0m \u001b[32m━━━━━━━━━━━━━━━━━━━━\u001b[0m\u001b[37m\u001b[0m \u001b[1m42s\u001b[0m 43ms/step - accuracy: 0.7844 - loss: 0.6247 - val_accuracy: 0.8829 - val_loss: 0.3393\n",
            "Epoch 2/10\n",
            "\u001b[1m938/938\u001b[0m \u001b[32m━━━━━━━━━━━━━━━━━━━━\u001b[0m\u001b[37m\u001b[0m \u001b[1m43s\u001b[0m 46ms/step - accuracy: 0.8851 - loss: 0.3249 - val_accuracy: 0.8961 - val_loss: 0.2984\n",
            "Epoch 3/10\n",
            "\u001b[1m938/938\u001b[0m \u001b[32m━━━━━━━━━━━━━━━━━━━━\u001b[0m\u001b[37m\u001b[0m \u001b[1m79s\u001b[0m 43ms/step - accuracy: 0.9023 - loss: 0.2815 - val_accuracy: 0.9002 - val_loss: 0.2852\n",
            "Epoch 4/10\n",
            "\u001b[1m938/938\u001b[0m \u001b[32m━━━━━━━━━━━━━━━━━━━━\u001b[0m\u001b[37m\u001b[0m \u001b[1m42s\u001b[0m 45ms/step - accuracy: 0.9107 - loss: 0.2562 - val_accuracy: 0.9032 - val_loss: 0.2772\n",
            "Epoch 5/10\n",
            "\u001b[1m938/938\u001b[0m \u001b[32m━━━━━━━━━━━━━━━━━━━━\u001b[0m\u001b[37m\u001b[0m \u001b[1m43s\u001b[0m 46ms/step - accuracy: 0.9169 - loss: 0.2375 - val_accuracy: 0.9050 - val_loss: 0.2721\n",
            "Epoch 6/10\n",
            "\u001b[1m938/938\u001b[0m \u001b[32m━━━━━━━━━━━━━━━━━━━━\u001b[0m\u001b[37m\u001b[0m \u001b[1m79s\u001b[0m 43ms/step - accuracy: 0.9211 - loss: 0.2220 - val_accuracy: 0.9056 - val_loss: 0.2679\n",
            "Epoch 7/10\n",
            "\u001b[1m938/938\u001b[0m \u001b[32m━━━━━━━━━━━━━━━━━━━━\u001b[0m\u001b[37m\u001b[0m \u001b[1m41s\u001b[0m 43ms/step - accuracy: 0.9255 - loss: 0.2084 - val_accuracy: 0.9067 - val_loss: 0.2650\n",
            "Epoch 8/10\n",
            "\u001b[1m938/938\u001b[0m \u001b[32m━━━━━━━━━━━━━━━━━━━━\u001b[0m\u001b[37m\u001b[0m \u001b[1m40s\u001b[0m 42ms/step - accuracy: 0.9301 - loss: 0.1960 - val_accuracy: 0.9081 - val_loss: 0.2643\n",
            "Epoch 9/10\n",
            "\u001b[1m938/938\u001b[0m \u001b[32m━━━━━━━━━━━━━━━━━━━━\u001b[0m\u001b[37m\u001b[0m \u001b[1m41s\u001b[0m 43ms/step - accuracy: 0.9336 - loss: 0.1847 - val_accuracy: 0.9098 - val_loss: 0.2635\n",
            "Epoch 10/10\n",
            "\u001b[1m938/938\u001b[0m \u001b[32m━━━━━━━━━━━━━━━━━━━━\u001b[0m\u001b[37m\u001b[0m \u001b[1m41s\u001b[0m 43ms/step - accuracy: 0.9384 - loss: 0.1742 - val_accuracy: 0.9099 - val_loss: 0.2645\n"
          ]
        }
      ]
    },
    {
      "cell_type": "code",
      "source": [
        "pd.DataFrame(HISTORY.history).plot()\n",
        "plt.xlabel('epochs')\n",
        "plt.ylabel('accuracy')"
      ],
      "metadata": {
        "colab": {
          "base_uri": "https://localhost:8080/",
          "height": 466
        },
        "id": "wyYosi-E6-rl",
        "outputId": "dd3e0c16-c436-4a16-e773-743e4889aaf6"
      },
      "execution_count": 11,
      "outputs": [
        {
          "output_type": "execute_result",
          "data": {
            "text/plain": [
              "Text(0, 0.5, 'accuracy')"
            ]
          },
          "metadata": {},
          "execution_count": 11
        },
        {
          "output_type": "display_data",
          "data": {
            "text/plain": [
              "<Figure size 640x480 with 1 Axes>"
            ],
            "image/png": "[encoded data removed]"
          },
          "metadata": {}
        }
      ]
    },
    {
      "cell_type": "code",
      "source": [
        "from sklearn.metrics import accuracy_score\n",
        "\n",
        "# Generate predictions on the test data\n",
        "predictions = model.predict(test_data_norm)\n",
        "\n",
        "# Get the predicted class labels (the class with the highest probability)\n",
        "predicted_labels = np.argmax(predictions, axis=1)\n",
        "\n",
        "# Calculate accuracy using sklearn's accuracy_score\n",
        "accuracy = accuracy_score(test_labels, predicted_labels)\n",
        "\n",
        "print(f\"Test accuracy (using sklearn): {accuracy:.4f}\")\n"
      ],
      "metadata": {
        "colab": {
          "base_uri": "https://localhost:8080/"
        },
        "id": "jXhvR1PH7uY_",
        "outputId": "5bbba586-5cd2-452a-de10-53d2703f5cb3"
      },
      "execution_count": 12,
      "outputs": [
        {
          "output_type": "stream",
          "name": "stdout",
          "text": [
            "\u001b[1m313/313\u001b[0m \u001b[32m━━━━━━━━━━━━━━━━━━━━\u001b[0m\u001b[37m\u001b[0m \u001b[1m2s\u001b[0m 6ms/step\n",
            "Test accuracy (using sklearn): 0.9099\n"
          ]
        }
      ]
    },
    {
      "cell_type": "code",
      "source": [
        "import random\n",
        "ic = random.randint(0, len(test_data_norm) - 1)\n",
        "\n",
        "# Show the image\n",
        "plt.imshow(test_data_norm[ic], cmap=plt.cm.binary)\n",
        "plt.title(\"Test Image\")\n",
        "plt.show()\n",
        "\n",
        "# Show true label\n",
        "print(f\"Real label: {class_names[test_labels[ic]]}\")\n",
        "\n",
        "#prediction\n",
        "pred = model.predict(test_data_norm[ic].reshape(1, 28, 28))\n",
        "\n",
        "# Show predicted label\n",
        "print(f\"Predicted label: {class_names[np.argmax(pred)]}\")"
      ],
      "metadata": {
        "id": "mVRO0xa17uWV",
        "colab": {
          "base_uri": "https://localhost:8080/",
          "height": 504
        },
        "outputId": "fee88be1-7568-4f4e-e3b8-0b54cb9fb300"
      },
      "execution_count": 20,
      "outputs": [
        {
          "output_type": "display_data",
          "data": {
            "text/plain": [
              "<Figure size 640x480 with 1 Axes>"
            ],
            "image/png": "[encoded data removed]"
          },
          "metadata": {}
        },
        {
          "output_type": "stream",
          "name": "stdout",
          "text": [
            "Real label: Sandal\n",
            "\u001b[1m1/1\u001b[0m \u001b[32m━━━━━━━━━━━━━━━━━━━━\u001b[0m\u001b[37m\u001b[0m \u001b[1m0s\u001b[0m 100ms/step\n",
            "Predicted label: Sandal\n"
          ]
        }
      ]
    },
    {
      "cell_type": "code",
      "source": [],
      "metadata": {
        "id": "7Z9twnfcEWla"
      },
      "execution_count": null,
      "outputs": []
    }
  ]
}